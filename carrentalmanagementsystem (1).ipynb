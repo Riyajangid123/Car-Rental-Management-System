{
 "cells": [
  {
   "cell_type": "code",
   "execution_count": 13,
   "id": "82d12204-600b-4c54-bc31-ae66e233802a",
   "metadata": {},
   "outputs": [],
   "source": [
    "class RamCarRental:\n",
    "    def __init__(self):\n",
    "        print('''Welcome to our shop\\n It is widely distributed in India you can rent any car from any of our branches\n",
    "        It is established in 1970''')\n",
    "        l=[\"Luxury\",\"Normal\"]\n",
    "        for i in l:\n",
    "            print(\"\\n\",i)\n",
    "    def Luxury(self):\n",
    "        cars=[\"BMW\",\"Rolls Royce\",\"Range Rover\",\"G-Wagon\"]\n",
    "        rent=[20000,200000,30000,80000]\n",
    "        dic={\"Cars\":cars,\"Rent\":rent}\n",
    "        import pandas as pd\n",
    "        df=pd.DataFrame(dic)\n",
    "        print(df)\n",
    "        print(\"These cars are only available for 24Hours,if you want for extra time than extra charges will be paid!\")\n",
    "        p=[]\n",
    "        while cars:\n",
    "            cars=True\n",
    "            car=int(input(\"enter the position of car you want? \"))\n",
    "            a=int(input(\"enter the no of cars or car you want: \"))\n",
    "            time=int(input(\"enter the days for which the car you want: \"))\n",
    "            b=df[\"Rent\"][car]\n",
    "            if time>1:\n",
    "               c=b*a*time \n",
    "            else:\n",
    "                c=b*a\n",
    "            p.append(c)\n",
    "            q=sum(p)\n",
    "            x=input(\"enter any other car you want? Yes/No\").lower()\n",
    "            if x==\"no\":\n",
    "                break\n",
    "        from colorama import Fore,Back,Style\n",
    "        print(Fore.BLUE,Back.YELLOW,Style.BRIGHT,\"Your Total amount is\",q)\n",
    "    def Normal(self):\n",
    "        cars=[\"Fortuner\",\"Thar ROXX\",\"Swift\",\"Scorpio\"]\n",
    "        rent=[12000,8000,2500,5000]\n",
    "        dic={\"Cars\":cars,\"Rent\":rent}\n",
    "        import pandas as pd\n",
    "        df=pd.DataFrame(dic)\n",
    "        print(df)\n",
    "        print(\"These cars are only available for 24Hours,if you want for extra time than extra charges will be paid!\")\n",
    "        p=[]\n",
    "        while cars:\n",
    "            cars=True\n",
    "            car=int(input(\"enter the position of car you want? \"))\n",
    "            a=int(input(\"enter the no of cars or car you want: \"))\n",
    "            time=int(input(\"enter the days for which you want the car\"))\n",
    "            b=df[\"Rent\"][car]\n",
    "            if time>1:\n",
    "               c=b*a*time \n",
    "            else:\n",
    "                c=b*a\n",
    "            p.append(c)\n",
    "            q=sum(p)\n",
    "            x=input(\"enter any other car you want? Yes/No\").lower()\n",
    "            if x==\"no\":\n",
    "                break\n",
    "        from colorama import Fore,Back,Style\n",
    "        print(Fore.BLUE,Back.YELLOW,Style.BRIGHT,\"Your Total amount is\",q)"
   ]
  },
  {
   "cell_type": "code",
   "execution_count": null,
   "id": "ed33fd1f-001c-48ef-b556-58460883cd2e",
   "metadata": {},
   "outputs": [
    {
     "name": "stdout",
     "output_type": "stream",
     "text": [
      "Welcome to our shop\n",
      " It is widely distributed in India you can rent any car from any of our branches\n",
      "        It is established in 1970\n",
      "\n",
      " Luxury\n",
      "\n",
      " Normal\n"
     ]
    },
    {
     "name": "stdin",
     "output_type": "stream",
     "text": [
      "enter which type of car you want? luxury\n"
     ]
    },
    {
     "name": "stdout",
     "output_type": "stream",
     "text": [
      "          Cars    Rent\n",
      "0          BMW   20000\n",
      "1  Rolls Royce  200000\n",
      "2  Range Rover   30000\n",
      "3      G-Wagon   80000\n",
      "These cars are only available for 24Hours,if you want for extra time than extra charges will be paid!\n"
     ]
    },
    {
     "name": "stdin",
     "output_type": "stream",
     "text": [
      "enter the position of car you want?  1\n",
      "enter the no of cars or car you want:  2\n",
      "enter the days for which the car you want:  2\n"
     ]
    }
   ],
   "source": [
    "obj=RamCarRental()\n",
    "x=input(\"enter which type of car you want?\").lower()\n",
    "if x==\"luxury\":\n",
    "    print(obj.Luxury())\n",
    "elif x==\"normal\":\n",
    "    print(obj.Normal())\n",
    "else:\n",
    "    print(\"Invalid, Please type correctly\")"
   ]
  },
  {
   "cell_type": "code",
   "execution_count": null,
   "id": "76407821-a442-48c6-a193-21e5a226e6f7",
   "metadata": {},
   "outputs": [],
   "source": []
  }
 ],
 "metadata": {
  "kernelspec": {
   "display_name": "Python [conda env:base] *",
   "language": "python",
   "name": "conda-base-py"
  },
  "language_info": {
   "codemirror_mode": {
    "name": "ipython",
    "version": 3
   },
   "file_extension": ".py",
   "mimetype": "text/x-python",
   "name": "python",
   "nbconvert_exporter": "python",
   "pygments_lexer": "ipython3",
   "version": "3.12.7"
  }
 },
 "nbformat": 4,
 "nbformat_minor": 5
}
